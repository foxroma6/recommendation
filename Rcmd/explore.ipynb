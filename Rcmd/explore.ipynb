{
 "cells": [
  {
   "cell_type": "code",
   "id": "initial_id",
   "metadata": {
    "collapsed": true,
    "ExecuteTime": {
     "end_time": "2024-12-11T09:09:26.204007Z",
     "start_time": "2024-12-11T09:09:25.643199Z"
    }
   },
   "source": [
    "import pandas as pd\n",
    "import numpy as np\n",
    "import os\n",
    "import warnings\n",
    "\n",
    "# 경고 무시\n",
    "warnings.filterwarnings(\"ignore\", category=pd.errors.ParserWarning)"
   ],
   "outputs": [],
   "execution_count": 3
  },
  {
   "metadata": {
    "ExecuteTime": {
     "end_time": "2024-12-11T09:09:26.242583Z",
     "start_time": "2024-12-11T09:09:26.234009Z"
    }
   },
   "cell_type": "code",
   "source": "os.listdir(\"ml_data\")",
   "id": "78ffa8c4305b36fd",
   "outputs": [
    {
     "data": {
      "text/plain": [
       "['movies.dat', 'ratings.dat', 'README', 'users.dat']"
      ]
     },
     "execution_count": 4,
     "metadata": {},
     "output_type": "execute_result"
    }
   ],
   "execution_count": 4
  },
  {
   "metadata": {
    "ExecuteTime": {
     "end_time": "2024-12-11T09:09:30.886116Z",
     "start_time": "2024-12-11T09:09:26.363293Z"
    }
   },
   "cell_type": "code",
   "source": [
    "movies= pd.read_csv(\"ml_data/movies.dat\", encoding=\"cp1252\", delimiter=\"::\", header=None, names=[\"movie_id\", \"title\", \"genres\"])\n",
    "ratings=  pd.read_csv(\"ml_data/ratings.dat\", encoding=\"cp1252\", delimiter=\"::\", header=None, names=[\"user_id\", \"movie_id\", \"rating\", \"timestamp\"])\n",
    "users=  pd.read_csv(\"ml_data/users.dat\", encoding=\"cp1252\", delimiter=\"::\", header=None, names=[\"user_id\", \"gender\", \"age\", \"occupation\", \"zip_code\"])"
   ],
   "id": "50c321b4b4a9976e",
   "outputs": [],
   "execution_count": 5
  },
  {
   "metadata": {
    "ExecuteTime": {
     "end_time": "2024-12-11T09:09:30.908956Z",
     "start_time": "2024-12-11T09:09:30.903381Z"
    }
   },
   "cell_type": "code",
   "source": "len(movies)",
   "id": "bc8cffb9e3324d68",
   "outputs": [
    {
     "data": {
      "text/plain": [
       "3883"
      ]
     },
     "execution_count": 6,
     "metadata": {},
     "output_type": "execute_result"
    }
   ],
   "execution_count": 6
  },
  {
   "metadata": {
    "ExecuteTime": {
     "end_time": "2024-12-11T09:09:30.932158Z",
     "start_time": "2024-12-11T09:09:30.928222Z"
    }
   },
   "cell_type": "code",
   "source": "len(ratings)",
   "id": "8e909880387187c8",
   "outputs": [
    {
     "data": {
      "text/plain": [
       "1000209"
      ]
     },
     "execution_count": 7,
     "metadata": {},
     "output_type": "execute_result"
    }
   ],
   "execution_count": 7
  },
  {
   "metadata": {
    "ExecuteTime": {
     "end_time": "2024-12-11T09:09:30.947157Z",
     "start_time": "2024-12-11T09:09:30.937156Z"
    }
   },
   "cell_type": "code",
   "source": "len(users)",
   "id": "cb9440619f2a8fc9",
   "outputs": [
    {
     "data": {
      "text/plain": [
       "6040"
      ]
     },
     "execution_count": 8,
     "metadata": {},
     "output_type": "execute_result"
    }
   ],
   "execution_count": 8
  },
  {
   "metadata": {
    "ExecuteTime": {
     "end_time": "2024-12-11T09:09:30.989899Z",
     "start_time": "2024-12-11T09:09:30.972671Z"
    }
   },
   "cell_type": "code",
   "source": "movies.head()",
   "id": "da0e801cf9e0d8fd",
   "outputs": [
    {
     "data": {
      "text/plain": [
       "   movie_id                               title                        genres\n",
       "0         1                    Toy Story (1995)   Animation|Children's|Comedy\n",
       "1         2                      Jumanji (1995)  Adventure|Children's|Fantasy\n",
       "2         3             Grumpier Old Men (1995)                Comedy|Romance\n",
       "3         4            Waiting to Exhale (1995)                  Comedy|Drama\n",
       "4         5  Father of the Bride Part II (1995)                        Comedy"
      ],
      "text/html": [
       "<div>\n",
       "<style scoped>\n",
       "    .dataframe tbody tr th:only-of-type {\n",
       "        vertical-align: middle;\n",
       "    }\n",
       "\n",
       "    .dataframe tbody tr th {\n",
       "        vertical-align: top;\n",
       "    }\n",
       "\n",
       "    .dataframe thead th {\n",
       "        text-align: right;\n",
       "    }\n",
       "</style>\n",
       "<table border=\"1\" class=\"dataframe\">\n",
       "  <thead>\n",
       "    <tr style=\"text-align: right;\">\n",
       "      <th></th>\n",
       "      <th>movie_id</th>\n",
       "      <th>title</th>\n",
       "      <th>genres</th>\n",
       "    </tr>\n",
       "  </thead>\n",
       "  <tbody>\n",
       "    <tr>\n",
       "      <th>0</th>\n",
       "      <td>1</td>\n",
       "      <td>Toy Story (1995)</td>\n",
       "      <td>Animation|Children's|Comedy</td>\n",
       "    </tr>\n",
       "    <tr>\n",
       "      <th>1</th>\n",
       "      <td>2</td>\n",
       "      <td>Jumanji (1995)</td>\n",
       "      <td>Adventure|Children's|Fantasy</td>\n",
       "    </tr>\n",
       "    <tr>\n",
       "      <th>2</th>\n",
       "      <td>3</td>\n",
       "      <td>Grumpier Old Men (1995)</td>\n",
       "      <td>Comedy|Romance</td>\n",
       "    </tr>\n",
       "    <tr>\n",
       "      <th>3</th>\n",
       "      <td>4</td>\n",
       "      <td>Waiting to Exhale (1995)</td>\n",
       "      <td>Comedy|Drama</td>\n",
       "    </tr>\n",
       "    <tr>\n",
       "      <th>4</th>\n",
       "      <td>5</td>\n",
       "      <td>Father of the Bride Part II (1995)</td>\n",
       "      <td>Comedy</td>\n",
       "    </tr>\n",
       "  </tbody>\n",
       "</table>\n",
       "</div>"
      ]
     },
     "execution_count": 9,
     "metadata": {},
     "output_type": "execute_result"
    }
   ],
   "execution_count": 9
  },
  {
   "metadata": {
    "ExecuteTime": {
     "end_time": "2024-12-11T09:09:31.012654Z",
     "start_time": "2024-12-11T09:09:31.006939Z"
    }
   },
   "cell_type": "code",
   "source": "ratings.head()",
   "id": "dbb460a1d595c2be",
   "outputs": [
    {
     "data": {
      "text/plain": [
       "   user_id  movie_id  rating  timestamp\n",
       "0        1      1193       5  978300760\n",
       "1        1       661       3  978302109\n",
       "2        1       914       3  978301968\n",
       "3        1      3408       4  978300275\n",
       "4        1      2355       5  978824291"
      ],
      "text/html": [
       "<div>\n",
       "<style scoped>\n",
       "    .dataframe tbody tr th:only-of-type {\n",
       "        vertical-align: middle;\n",
       "    }\n",
       "\n",
       "    .dataframe tbody tr th {\n",
       "        vertical-align: top;\n",
       "    }\n",
       "\n",
       "    .dataframe thead th {\n",
       "        text-align: right;\n",
       "    }\n",
       "</style>\n",
       "<table border=\"1\" class=\"dataframe\">\n",
       "  <thead>\n",
       "    <tr style=\"text-align: right;\">\n",
       "      <th></th>\n",
       "      <th>user_id</th>\n",
       "      <th>movie_id</th>\n",
       "      <th>rating</th>\n",
       "      <th>timestamp</th>\n",
       "    </tr>\n",
       "  </thead>\n",
       "  <tbody>\n",
       "    <tr>\n",
       "      <th>0</th>\n",
       "      <td>1</td>\n",
       "      <td>1193</td>\n",
       "      <td>5</td>\n",
       "      <td>978300760</td>\n",
       "    </tr>\n",
       "    <tr>\n",
       "      <th>1</th>\n",
       "      <td>1</td>\n",
       "      <td>661</td>\n",
       "      <td>3</td>\n",
       "      <td>978302109</td>\n",
       "    </tr>\n",
       "    <tr>\n",
       "      <th>2</th>\n",
       "      <td>1</td>\n",
       "      <td>914</td>\n",
       "      <td>3</td>\n",
       "      <td>978301968</td>\n",
       "    </tr>\n",
       "    <tr>\n",
       "      <th>3</th>\n",
       "      <td>1</td>\n",
       "      <td>3408</td>\n",
       "      <td>4</td>\n",
       "      <td>978300275</td>\n",
       "    </tr>\n",
       "    <tr>\n",
       "      <th>4</th>\n",
       "      <td>1</td>\n",
       "      <td>2355</td>\n",
       "      <td>5</td>\n",
       "      <td>978824291</td>\n",
       "    </tr>\n",
       "  </tbody>\n",
       "</table>\n",
       "</div>"
      ]
     },
     "execution_count": 10,
     "metadata": {},
     "output_type": "execute_result"
    }
   ],
   "execution_count": 10
  },
  {
   "metadata": {
    "ExecuteTime": {
     "end_time": "2024-12-11T09:09:31.108304Z",
     "start_time": "2024-12-11T09:09:31.099029Z"
    }
   },
   "cell_type": "code",
   "source": "users.head()",
   "id": "18e6b9f8961accb2",
   "outputs": [
    {
     "data": {
      "text/plain": [
       "   user_id gender  age  occupation zip_code\n",
       "0        1      F    1          10    48067\n",
       "1        2      M   56          16    70072\n",
       "2        3      M   25          15    55117\n",
       "3        4      M   45           7    02460\n",
       "4        5      M   25          20    55455"
      ],
      "text/html": [
       "<div>\n",
       "<style scoped>\n",
       "    .dataframe tbody tr th:only-of-type {\n",
       "        vertical-align: middle;\n",
       "    }\n",
       "\n",
       "    .dataframe tbody tr th {\n",
       "        vertical-align: top;\n",
       "    }\n",
       "\n",
       "    .dataframe thead th {\n",
       "        text-align: right;\n",
       "    }\n",
       "</style>\n",
       "<table border=\"1\" class=\"dataframe\">\n",
       "  <thead>\n",
       "    <tr style=\"text-align: right;\">\n",
       "      <th></th>\n",
       "      <th>user_id</th>\n",
       "      <th>gender</th>\n",
       "      <th>age</th>\n",
       "      <th>occupation</th>\n",
       "      <th>zip_code</th>\n",
       "    </tr>\n",
       "  </thead>\n",
       "  <tbody>\n",
       "    <tr>\n",
       "      <th>0</th>\n",
       "      <td>1</td>\n",
       "      <td>F</td>\n",
       "      <td>1</td>\n",
       "      <td>10</td>\n",
       "      <td>48067</td>\n",
       "    </tr>\n",
       "    <tr>\n",
       "      <th>1</th>\n",
       "      <td>2</td>\n",
       "      <td>M</td>\n",
       "      <td>56</td>\n",
       "      <td>16</td>\n",
       "      <td>70072</td>\n",
       "    </tr>\n",
       "    <tr>\n",
       "      <th>2</th>\n",
       "      <td>3</td>\n",
       "      <td>M</td>\n",
       "      <td>25</td>\n",
       "      <td>15</td>\n",
       "      <td>55117</td>\n",
       "    </tr>\n",
       "    <tr>\n",
       "      <th>3</th>\n",
       "      <td>4</td>\n",
       "      <td>M</td>\n",
       "      <td>45</td>\n",
       "      <td>7</td>\n",
       "      <td>02460</td>\n",
       "    </tr>\n",
       "    <tr>\n",
       "      <th>4</th>\n",
       "      <td>5</td>\n",
       "      <td>M</td>\n",
       "      <td>25</td>\n",
       "      <td>20</td>\n",
       "      <td>55455</td>\n",
       "    </tr>\n",
       "  </tbody>\n",
       "</table>\n",
       "</div>"
      ]
     },
     "execution_count": 11,
     "metadata": {},
     "output_type": "execute_result"
    }
   ],
   "execution_count": 11
  },
  {
   "metadata": {
    "ExecuteTime": {
     "end_time": "2024-12-11T07:48:56.477686Z",
     "start_time": "2024-12-11T07:48:47.967794Z"
    }
   },
   "cell_type": "code",
   "source": "!pip3 install sklearn",
   "id": "bc2b0056b4b0f22b",
   "outputs": [
    {
     "name": "stdout",
     "output_type": "stream",
     "text": [
      "Collecting sklearn"
     ]
    },
    {
     "name": "stderr",
     "output_type": "stream",
     "text": [
      "  error: subprocess-exited-with-error\n",
      "  \n",
      "  Getting requirements to build wheel did not run successfully.\n",
      "  exit code: 1\n",
      "  \n",
      "  [15 lines of output]\n",
      "  The 'sklearn' PyPI package is deprecated, use 'scikit-learn'\n",
      "  rather than 'sklearn' for pip commands.\n",
      "  \n",
      "  Here is how to fix this error in the main use cases:\n",
      "  - use 'pip install scikit-learn' rather than 'pip install sklearn'\n",
      "  - replace 'sklearn' by 'scikit-learn' in your pip requirements files\n",
      "    (requirements.txt, setup.py, setup.cfg, Pipfile, etc ...)\n",
      "  - if the 'sklearn' package is used by one of your dependencies,\n",
      "    it would be great if you take some time to track which package uses\n",
      "    'sklearn' instead of 'scikit-learn' and report it to their issue tracker\n",
      "  - as a last resort, set the environment variable\n",
      "    SKLEARN_ALLOW_DEPRECATED_SKLEARN_PACKAGE_INSTALL=True to avoid this error\n",
      "  \n",
      "  More information is available at\n",
      "  https://github.com/scikit-learn/sklearn-pypi-package\n",
      "  [end of output]\n",
      "  \n",
      "  note: This error originates from a subprocess, and is likely not a problem with pip.\n",
      "error: subprocess-exited-with-error\n",
      "\n",
      "Getting requirements to build wheel did not run successfully.\n",
      "exit code: 1\n",
      "\n",
      "See above for output.\n",
      "\n",
      "note: This error originates from a subprocess, and is likely not a problem with pip.\n",
      "\n",
      "[notice] A new release of pip is available: 23.2.1 -> 24.3.1\n",
      "[notice] To update, run: python.exe -m pip install --upgrade pip\n"
     ]
    },
    {
     "name": "stdout",
     "output_type": "stream",
     "text": [
      "\n",
      "  Downloading sklearn-0.0.post12.tar.gz (2.6 kB)\n",
      "  Installing build dependencies: started\n",
      "  Installing build dependencies: finished with status 'done'\n",
      "  Getting requirements to build wheel: started\n",
      "  Getting requirements to build wheel: finished with status 'error'\n"
     ]
    }
   ],
   "execution_count": 2
  },
  {
   "metadata": {
    "ExecuteTime": {
     "end_time": "2024-12-11T10:49:22.516520Z",
     "start_time": "2024-12-11T10:49:22.511747Z"
    }
   },
   "cell_type": "code",
   "source": [
    "import torch\n",
    "\n",
    "# Example 1: Using dim=1 (explicit)\n",
    "user_emb = torch.randn(4, 8)  # [batch_size, embedding_dim]\n",
    "movie_emb = torch.randn(4, 8)  # [batch_size, embedding_dim]\n",
    "x = torch.cat([user_emb, movie_emb], dim=0)"
   ],
   "id": "9c9d57882a9329af",
   "outputs": [],
   "execution_count": 20
  },
  {
   "metadata": {
    "ExecuteTime": {
     "end_time": "2024-12-11T10:49:23.402921Z",
     "start_time": "2024-12-11T10:49:23.398694Z"
    }
   },
   "cell_type": "code",
   "source": "user_emb.shape",
   "id": "1b67d959cbdc938f",
   "outputs": [
    {
     "data": {
      "text/plain": [
       "torch.Size([4, 8])"
      ]
     },
     "execution_count": 21,
     "metadata": {},
     "output_type": "execute_result"
    }
   ],
   "execution_count": 21
  },
  {
   "metadata": {
    "ExecuteTime": {
     "end_time": "2024-12-11T10:49:23.958321Z",
     "start_time": "2024-12-11T10:49:23.953516Z"
    }
   },
   "cell_type": "code",
   "source": "movie_emb.shape",
   "id": "cd8d3ce67785377d",
   "outputs": [
    {
     "data": {
      "text/plain": [
       "torch.Size([4, 8])"
      ]
     },
     "execution_count": 22,
     "metadata": {},
     "output_type": "execute_result"
    }
   ],
   "execution_count": 22
  },
  {
   "metadata": {
    "ExecuteTime": {
     "end_time": "2024-12-11T10:49:24.423352Z",
     "start_time": "2024-12-11T10:49:24.419436Z"
    }
   },
   "cell_type": "code",
   "source": "x.shape",
   "id": "195b7a875478d17",
   "outputs": [
    {
     "data": {
      "text/plain": [
       "torch.Size([8, 8])"
      ]
     },
     "execution_count": 23,
     "metadata": {},
     "output_type": "execute_result"
    }
   ],
   "execution_count": 23
  },
  {
   "metadata": {
    "ExecuteTime": {
     "end_time": "2024-12-11T10:58:23.057819Z",
     "start_time": "2024-12-11T10:58:23.053658Z"
    }
   },
   "cell_type": "code",
   "source": [
    "for i in range(0, len(movie_emb), 2):\n",
    "    print(i)"
   ],
   "id": "bdd2d60910645e0f",
   "outputs": [
    {
     "name": "stdout",
     "output_type": "stream",
     "text": [
      "0\n",
      "2\n"
     ]
    }
   ],
   "execution_count": 27
  },
  {
   "metadata": {
    "ExecuteTime": {
     "end_time": "2024-12-11T14:45:45.877622Z",
     "start_time": "2024-12-11T14:26:50.945818Z"
    }
   },
   "cell_type": "code",
   "source": [
    "# import necessary packages\n",
    "\n",
    "import pandas as pd\n",
    "import numpy as np\n",
    "import torch\n",
    "import torch.nn as nn\n",
    "import torch.optim as optim\n",
    "from sklearn.preprocessing import LabelEncoder\n",
    "import matplotlib.pyplot as plt\n",
    "\n",
    "# load dataset\n",
    "\n",
    "movies= pd.read_csv(\"ml_data/movies.dat\", encoding=\"cp1252\", delimiter=\"::\", header=None, names=[\"movie_id\", \"title\", \"genres\"])\n",
    "ratings=  pd.read_csv(\"ml_data/ratings.dat\", encoding=\"cp1252\", delimiter=\"::\", header=None, names=[\"user_id\", \"movie_id\", \"rating\", \"timestamp\"])\n",
    "users=  pd.read_csv(\"ml_data/users.dat\", encoding=\"cp1252\", delimiter=\"::\", header=None, names=[\"user_id\", \"gender\", \"age\", \"occupation\", \"zip_code\"])\n",
    "\n",
    "# base dataset\n",
    "base_dt= pd.merge(ratings,movies, on=[\"movie_id\"], how=\"left\")\n",
    "base_dt= pd.merge(base_dt,users, on=[\"user_id\"], how=\"left\")\n",
    "\n",
    "# encoding string columns\n",
    "user_encoder = LabelEncoder()\n",
    "movie_encoder = LabelEncoder()\n",
    "\n",
    "base_dt[\"userId\"] = user_encoder.fit_transform(base_dt[\"user_id\"])\n",
    "base_dt[\"movieId\"] = movie_encoder.fit_transform(base_dt[\"movie_id\"])\n",
    "\n",
    "num_users = base_dt[\"userId\"].nunique()\n",
    "num_movies = base_dt[\"movieId\"].nunique()\n",
    "\n",
    "# prepare for train dataset\n",
    "base_dt['target']=0\n",
    "base_dt.loc[base_dt['rating']>=4,'target']=1\n",
    "used_features= ['userId','movieId','target']\n",
    "\n",
    "# setting modeling part\n",
    "class nn_linear_bandit_model(nn.Module):\n",
    "\n",
    "    def __init__(self, num_users, num_movies, embedding_dim=8):\n",
    "        super(nn_linear_bandit_model, self).__init__()\n",
    "        self.user_embedding = nn.Embedding(num_users, embedding_dim)\n",
    "        self.movie_embedding = nn.Embedding(num_movies, embedding_dim)\n",
    "\n",
    "        self.mlp = nn.Sequential(\n",
    "\n",
    "            nn.Linear(embedding_dim * 2, embedding_dim),\n",
    "            nn.ReLU(),\n",
    "            nn.Linear(embedding_dim, embedding_dim),\n",
    "            nn.ReLU(),\n",
    "            nn.Linear(embedding_dim, 1),\n",
    "            nn.Sigmoid()\n",
    "\n",
    "        )\n",
    "\n",
    "    def forward(self, user_ids, movie_ids):\n",
    "        user_emb= self.user_embedding(user_ids)\n",
    "        movie_emb = self.movie_embedding(movie_ids)\n",
    "        x= torch.cat([user_emb, movie_emb], dim=-1)\n",
    "        return self.mlp(x)\n",
    "\n",
    "\n",
    "# setting train model\n",
    "def train_neural_linear_bandit_model(model, samples, epochs=3, batch_size=32):\n",
    "    optimizer= optim.Adam(model.parameters())\n",
    "    criterion = nn.BCELoss()\n",
    "    model.train()\n",
    "\n",
    "    loss_history = []  # save loss records\n",
    "\n",
    "    for epoch in range(epochs):\n",
    "\n",
    "        total_loss=0\n",
    "\n",
    "        for i in range(0, len(samples), batch_size):\n",
    "            batch= samples[i:i+batch_size]\n",
    "\n",
    "            user_ids, movie_ids, labels = zip(*batch)\n",
    "\n",
    "            user_ids= torch.tensor(user_ids, dtype=torch.long)\n",
    "            movie_ids= torch.tensor(movie_ids, dtype=torch.long)\n",
    "            labels= torch.tensor(labels, dtype=torch.float32).unsqueeze(1)\n",
    "\n",
    "            optimizer.zero_grad()\n",
    "            predictions= model(user_ids, movie_ids)\n",
    "            loss = criterion(predictions, labels)\n",
    "            loss.backward()\n",
    "            optimizer.step()\n",
    "\n",
    "            total_loss+=loss.item()\n",
    "\n",
    "        loss_history.append(total_loss)\n",
    "        print(f\"Epoch {epoch+1}/{epochs}, Loss: {total_loss}\")\n",
    "\n",
    "    # Save the model\n",
    "    torch.save(model.state_dict(), \"neural_linear_bandit_model.pth\")\n",
    "    print(\"Model saved as neural_linear_bandit_model.pth\")\n",
    "\n",
    "    # Plot the loss history\n",
    "    plt.figure(figsize=(8, 5))\n",
    "    plt.plot(range(1, epochs + 1), loss_history, marker='o')\n",
    "    plt.xlabel('Epoch')\n",
    "    plt.ylabel('Loss')\n",
    "    plt.title('Loss per Epoch')\n",
    "    plt.grid()\n",
    "    plt.show()\n",
    "\n",
    "# debug\n",
    "# print(base_dt.head())\n",
    "# print(base_dt.info())\n",
    "# print(len(base_dt))\n",
    "\n",
    "# print(train_dt.head())\n",
    "# print(train_dt.info())\n",
    "# print(len(train_dt))\n",
    "\n",
    "def generate_negative_samples(data, num_negative=4):\n",
    "    \"\"\"Generate negative samples for the training dataset.\"\"\"\n",
    "    samples = []\n",
    "    all_movies = set(data[\"movieId\"].unique())\n",
    "\n",
    "    for _, row in data.iterrows():\n",
    "        user_id = row[\"userId\"]\n",
    "        positive_movie = row[\"movieId\"]\n",
    "        label = row[\"target\"]\n",
    "\n",
    "        # Add positive sample\n",
    "        samples.append((user_id, positive_movie, label))\n",
    "\n",
    "        # Add negative samples\n",
    "        negative_movies = np.random.choice(list(all_movies - {positive_movie}), num_negative, replace=False)\n",
    "\n",
    "        for neg_movie in negative_movies:\n",
    "            samples.append((user_id, neg_movie, 0))  # Negative samples have label 0\n",
    "\n",
    "    return samples\n",
    "\n",
    "train_samples = generate_negative_samples(base_dt[used_features])\n",
    "\n",
    "# param\n",
    "embedding_dim= 4\n",
    "\n",
    "# train model\n",
    "model = nn_linear_bandit_model(num_users, num_movies, embedding_dim)\n",
    "train_neural_linear_bandit_model(model, train_samples)"
   ],
   "id": "12321a2f94577a39",
   "outputs": [
    {
     "name": "stdout",
     "output_type": "stream",
     "text": [
      "Epoch 1/3, Loss: 43592.132416651584\n",
      "Epoch 2/3, Loss: 42617.06017038226\n",
      "Epoch 3/3, Loss: 42458.25688767806\n",
      "Model saved as neural_linear_bandit_model.pth\n"
     ]
    },
    {
     "data": {
      "text/plain": [
       "<Figure size 800x500 with 1 Axes>"
      ],
      "image/png": "[encoded data removed]"
     },
     "metadata": {},
     "output_type": "display_data"
    }
   ],
   "execution_count": 61
  },
  {
   "metadata": {},
   "cell_type": "code",
   "outputs": [],
   "execution_count": null,
   "source": "",
   "id": "107baffc69b51808"
  },
  {
   "metadata": {},
   "cell_type": "code",
   "outputs": [],
   "execution_count": null,
   "source": "",
   "id": "2cb76412780984a5"
  }
 ],
 "metadata": {
  "kernelspec": {
   "display_name": "Python 3",
   "language": "python",
   "name": "python3"
  },
  "language_info": {
   "codemirror_mode": {
    "name": "ipython",
    "version": 2
   },
   "file_extension": ".py",
   "mimetype": "text/x-python",
   "name": "python",
   "nbconvert_exporter": "python",
   "pygments_lexer": "ipython2",
   "version": "2.7.6"
  }
 },
 "nbformat": 4,
 "nbformat_minor": 5
}
